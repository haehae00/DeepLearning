{
 "cells": [
  {
   "cell_type": "code",
   "execution_count": 14,
   "id": "98f32636",
   "metadata": {},
   "outputs": [
    {
     "name": "stdout",
     "output_type": "stream",
     "text": [
      "Train on 470 samples\n",
      "Epoch 1/30\n",
      "470/470 [==============================] - 0s 161us/sample - loss: 0.6721 - acc: 0.2894\n",
      "Epoch 2/30\n",
      "470/470 [==============================] - 0s 50us/sample - loss: 0.2155 - acc: 0.7766\n",
      "Epoch 3/30\n",
      "470/470 [==============================] - 0s 45us/sample - loss: 0.1489 - acc: 0.8511\n",
      "Epoch 4/30\n",
      "470/470 [==============================] - 0s 47us/sample - loss: 0.1489 - acc: 0.8511\n",
      "Epoch 5/30\n",
      "470/470 [==============================] - 0s 49us/sample - loss: 0.1489 - acc: 0.8511\n",
      "Epoch 6/30\n",
      "470/470 [==============================] - 0s 47us/sample - loss: 0.1489 - acc: 0.8511\n",
      "Epoch 7/30\n",
      "470/470 [==============================] - 0s 51us/sample - loss: 0.1489 - acc: 0.8511\n",
      "Epoch 8/30\n",
      "470/470 [==============================] - 0s 47us/sample - loss: 0.1489 - acc: 0.8511\n",
      "Epoch 9/30\n",
      "470/470 [==============================] - 0s 53us/sample - loss: 0.1489 - acc: 0.8511\n",
      "Epoch 10/30\n",
      "470/470 [==============================] - 0s 53us/sample - loss: 0.1489 - acc: 0.8511\n",
      "Epoch 11/30\n",
      "470/470 [==============================] - 0s 49us/sample - loss: 0.1489 - acc: 0.8511\n",
      "Epoch 12/30\n",
      "470/470 [==============================] - 0s 47us/sample - loss: 0.1489 - acc: 0.8511\n",
      "Epoch 13/30\n",
      "470/470 [==============================] - 0s 47us/sample - loss: 0.1489 - acc: 0.8511\n",
      "Epoch 14/30\n",
      "470/470 [==============================] - 0s 47us/sample - loss: 0.1489 - acc: 0.8511\n",
      "Epoch 15/30\n",
      "470/470 [==============================] - 0s 51us/sample - loss: 0.1489 - acc: 0.8511\n",
      "Epoch 16/30\n",
      "470/470 [==============================] - 0s 49us/sample - loss: 0.1489 - acc: 0.8511\n",
      "Epoch 17/30\n",
      "470/470 [==============================] - 0s 51us/sample - loss: 0.1489 - acc: 0.8511\n",
      "Epoch 18/30\n",
      "470/470 [==============================] - 0s 45us/sample - loss: 0.1489 - acc: 0.8511\n",
      "Epoch 19/30\n",
      "470/470 [==============================] - 0s 49us/sample - loss: 0.1489 - acc: 0.8511\n",
      "Epoch 20/30\n",
      "470/470 [==============================] - 0s 53us/sample - loss: 0.1489 - acc: 0.8511\n",
      "Epoch 21/30\n",
      "470/470 [==============================] - 0s 47us/sample - loss: 0.1489 - acc: 0.8511\n",
      "Epoch 22/30\n",
      "470/470 [==============================] - 0s 50us/sample - loss: 0.1489 - acc: 0.8511\n",
      "Epoch 23/30\n",
      "470/470 [==============================] - 0s 45us/sample - loss: 0.1489 - acc: 0.8511\n",
      "Epoch 24/30\n",
      "470/470 [==============================] - 0s 49us/sample - loss: 0.1489 - acc: 0.8511\n",
      "Epoch 25/30\n",
      "470/470 [==============================] - 0s 45us/sample - loss: 0.1489 - acc: 0.8511\n",
      "Epoch 26/30\n",
      "470/470 [==============================] - 0s 48us/sample - loss: 0.1489 - acc: 0.8511\n",
      "Epoch 27/30\n",
      "470/470 [==============================] - 0s 49us/sample - loss: 0.1489 - acc: 0.8511\n",
      "Epoch 28/30\n",
      "470/470 [==============================] - 0s 49us/sample - loss: 0.1489 - acc: 0.8511\n",
      "Epoch 29/30\n",
      "470/470 [==============================] - 0s 51us/sample - loss: 0.1489 - acc: 0.8511\n",
      "Epoch 30/30\n",
      "470/470 [==============================] - 0s 49us/sample - loss: 0.1489 - acc: 0.8511\n",
      "\n",
      " Accuracy: 0.8511\n"
     ]
    },
    {
     "name": "stderr",
     "output_type": "stream",
     "text": [
      "c:\\python3\\lib\\site-packages\\tensorflow\\python\\keras\\engine\\training.py:2426: UserWarning: `Model.state_updates` will be removed in a future version. This property should not be used in TensorFlow 2.0, as `updates` are applied automatically.\n",
      "  warnings.warn('`Model.state_updates` will be removed in a future version. '\n"
     ]
    }
   ],
   "source": [
    "from tensorflow.keras.models import Sequential \n",
    "from tensorflow.keras.layers import Dense\n",
    "\n",
    "import numpy\n",
    "import tensorflow as tf\n",
    "\n",
    "seed = 0\n",
    "numpy.random.seed(seed)\n",
    "tf.random.set_seed(seed)\n",
    "\n",
    "Data_set = numpy.loadtxt(\"dataset/ThoraricSurgery.csv\", delimiter=\",\")\n",
    "\n",
    "X = Data_set[:,0:17]\n",
    "Y = Data_set[:,17]\n",
    "\n",
    "model = Sequential()\n",
    "model.add(Dense(30, input_dim=17, activation='relu'))\n",
    "model.add(Dense(1, activation='sigmoid'))\n",
    "\n",
    "model.compile(loss='mean_squared_error', optimizer='adam',metrics=['accuracy'])\n",
    "model.fit(X, Y, epochs=30, batch_size=10)\n",
    "\n",
    "print(\"\\n Accuracy: %.4f\" % (model.evaluate(X, Y)[1]))"
   ]
  },
  {
   "cell_type": "code",
   "execution_count": 7,
   "id": "bc319082",
   "metadata": {},
   "outputs": [
    {
     "name": "stdout",
     "output_type": "stream",
     "text": [
      "[2 8 4 9 1 6 7 3 0 5]\n",
      "[2 8 4 9 1 6 7 3 0 5]\n"
     ]
    }
   ],
   "source": [
    "#계속 같은 난수 생성\n",
    "import numpy as np\n",
    "np.random.seed(0)\n",
    "perm = np.random.permutation(10)\n",
    "print (perm)\n",
    "\n",
    "np.random.seed(0)\n",
    "print (np.random.permutation(10))"
   ]
  },
  {
   "cell_type": "code",
   "execution_count": 10,
   "id": "c5411f3d",
   "metadata": {},
   "outputs": [
    {
     "name": "stdout",
     "output_type": "stream",
     "text": [
      "0 [2 8 4 9 1 6 7 3 0 5]\n",
      "1 [2 8 4 9 1 6 7 3 0 5]\n",
      "2 [2 8 4 9 1 6 7 3 0 5]\n",
      "3 [2 8 4 9 1 6 7 3 0 5]\n",
      "4 [2 8 4 9 1 6 7 3 0 5]\n",
      "5 [2 8 4 9 1 6 7 3 0 5]\n",
      "6 [2 8 4 9 1 6 7 3 0 5]\n",
      "7 [2 8 4 9 1 6 7 3 0 5]\n",
      "8 [2 8 4 9 1 6 7 3 0 5]\n",
      "9 [2 8 4 9 1 6 7 3 0 5]\n",
      "10 [2 8 4 9 1 6 7 3 0 5]\n"
     ]
    }
   ],
   "source": [
    "#계속 같은 난수 생성\n",
    "import numpy as np\n",
    "\n",
    "num = 0\n",
    "\n",
    "while num <= 10:\n",
    "    np.random.seed(0)\n",
    "    perm = np.random.permutation(10)\n",
    "    print (num, perm)\n",
    "    num += 1"
   ]
  },
  {
   "cell_type": "code",
   "execution_count": 13,
   "id": "b0a875a3",
   "metadata": {},
   "outputs": [
    {
     "name": "stdout",
     "output_type": "stream",
     "text": [
      "x의 평균값: 5.0\n",
      "y의 평균값: 90.5\n",
      "분모: 20.0\n",
      "분자: 46.0\n",
      "기울기 a = 2.3\n",
      "y 절편 b = 79.0\n"
     ]
    }
   ],
   "source": [
    "#최소 제곱\n",
    "import numpy as np\n",
    "\n",
    "x = [2, 4, 6, 8]\n",
    "y = [81, 93, 91, 97]\n",
    "\n",
    "#x의 모든 원소의 평균을 구하는 넘파이 함수 -> mean()\n",
    "mx = np.mean(x)\n",
    "my = np.mean(y)\n",
    "print(\"x의 평균값:\", mx)\n",
    "print(\"y의 평균값:\", my)\n",
    "\n",
    "#분모\n",
    "divisor = sum([(i - mx)**2 for i in x])\n",
    "\n",
    "#분자\n",
    "def top(x, mx, y, my):\n",
    "    d=0\n",
    "    for i in range(len(x)):\n",
    "        d += (x[i] - mx) * (y[i] - my)\n",
    "    return d\n",
    "dividend = top(x, mx, y, my)\n",
    "\n",
    "print(\"분모:\", divisor)\n",
    "print(\"분자:\", dividend)\n",
    "\n",
    "a = dividend / divisor\n",
    "b = my - (mx*a)\n",
    "\n",
    "print(\"기울기 a =\", a)\n",
    "print(\"y 절편 b =\", b)"
   ]
  },
  {
   "cell_type": "code",
   "execution_count": 3,
   "id": "338b6479",
   "metadata": {},
   "outputs": [
    {
     "name": "stdout",
     "output_type": "stream",
     "text": [
      "공부시간=2, 실제점수=81, 예측점수=82\n",
      "공부시간=4, 실제점수=93, 예측점수=88\n",
      "공부시간=6, 실제점수=91, 예측점수=94\n",
      "공부시간=8, 실제점수=97, 예측점수=100\n",
      "rmse 최종값 : 3.3166247903554\n"
     ]
    }
   ],
   "source": [
    "#평균 제곱근 오차\n",
    "import numpy as np\n",
    "ab = [3, 76]\n",
    "data = [[2, 81], [4,93], [6,91],[8,97]]\n",
    "x = [i[0] for i in data]\n",
    "y = [i[1] for i in data]\n",
    "\n",
    "def predict(x):\n",
    "    return ab[0]*x + ab[1]\n",
    "\n",
    "def rmse(p, a):\n",
    "    return np.sqrt(((p-a)**2).mean())\n",
    "\n",
    "def rmse_val(predict_result,y):\n",
    "    return rmse(np.array(predict_result), np.array(y))\n",
    "\n",
    "predict_result = []\n",
    "\n",
    "for i in range(len(x)):\n",
    "    predict_result.append(predict(x[i]))\n",
    "    print(\"공부시간=%.f, 실제점수=%.f, 예측점수=%.f\" % (x[i], y[i], predict(x[i])))\n",
    "\n",
    "print(\"rmse 최종값 : \" + str(rmse_val(predict_result,y)))\n",
    "    "
   ]
  },
  {
   "cell_type": "code",
   "execution_count": 24,
   "id": "d14fa894",
   "metadata": {},
   "outputs": [
    {
     "name": "stdout",
     "output_type": "stream",
     "text": [
      "WARNING:tensorflow:From c:\\python3\\lib\\site-packages\\tensorflow\\python\\compat\\v2_compat.py:96: disable_resource_variables (from tensorflow.python.ops.variable_scope) is deprecated and will be removed in a future version.\n",
      "Instructions for updating:\n",
      "non-resource variables are not supported in the long term\n",
      "Epoch : 0, RMSE = 30.2139, 기울기 a = 7.5235, y절편 b = 80.5984\n",
      "Epoch : 100, RMSE = 2.8860, 기울기 a = 2.2299, y절편 b = 79.4181\n",
      "Epoch : 200, RMSE = 2.8826, 기울기 a = 2.2601, y절편 b = 79.2379\n",
      "Epoch : 300, RMSE = 2.8815, 기울기 a = 2.2773, y절편 b = 79.1353\n",
      "Epoch : 400, RMSE = 2.8811, 기울기 a = 2.2871, y절편 b = 79.0770\n",
      "Epoch : 500, RMSE = 2.8810, 기울기 a = 2.2927, y절편 b = 79.0438\n",
      "Epoch : 600, RMSE = 2.8810, 기울기 a = 2.2958, y절편 b = 79.0249\n",
      "Epoch : 700, RMSE = 2.8810, 기울기 a = 2.2976, y절편 b = 79.0142\n",
      "Epoch : 800, RMSE = 2.8810, 기울기 a = 2.2987, y절편 b = 79.0081\n",
      "Epoch : 900, RMSE = 2.8810, 기울기 a = 2.2992, y절편 b = 79.0046\n",
      "Epoch : 1000, RMSE = 2.8810, 기울기 a = 2.2996, y절편 b = 79.0026\n",
      "Epoch : 1100, RMSE = 2.8810, 기울기 a = 2.2998, y절편 b = 79.0015\n",
      "Epoch : 1200, RMSE = 2.8810, 기울기 a = 2.2999, y절편 b = 79.0008\n",
      "Epoch : 1300, RMSE = 2.8810, 기울기 a = 2.2999, y절편 b = 79.0005\n",
      "Epoch : 1400, RMSE = 2.8810, 기울기 a = 2.3000, y절편 b = 79.0003\n",
      "Epoch : 1500, RMSE = 2.8810, 기울기 a = 2.3000, y절편 b = 79.0002\n",
      "Epoch : 1600, RMSE = 2.8810, 기울기 a = 2.3000, y절편 b = 79.0001\n",
      "Epoch : 1700, RMSE = 2.8810, 기울기 a = 2.3000, y절편 b = 79.0001\n",
      "Epoch : 1800, RMSE = 2.8810, 기울기 a = 2.3000, y절편 b = 79.0000\n",
      "Epoch : 1900, RMSE = 2.8810, 기울기 a = 2.3000, y절편 b = 79.0000\n",
      "Epoch : 2000, RMSE = 2.8810, 기울기 a = 2.3000, y절편 b = 79.0000\n"
     ]
    }
   ],
   "source": [
    "import tensorflow.compat.v1 as tf \n",
    "tf.disable_v2_behavior()\n",
    "\n",
    "data = [[2, 81], [4, 93], [6,91],[8,97]]\n",
    "x_data = [x_row[0] for x_row in data]\n",
    "y_data = [y_row[1] for y_row in data]\n",
    "\n",
    "learning_rate = 0.1\n",
    "\n",
    "a = tf.Variable(tf.random_uniform([1],0,10, dtype = tf.float64, seed = 0))\n",
    "b = tf.Variable(tf.random_uniform([1],0,100,dtype = tf.float64, seed = 0))\n",
    "                \n",
    "y = a*x_data + b\n",
    "rmse = tf.sqrt(tf.reduce_mean(tf.square( y - y_data )))\n",
    "\n",
    "learning_rate = 0.1\n",
    "\n",
    "gradient_descent = tf.train.GradientDescentOptimizer(learning_rate).minimize(rmse)\n",
    "\n",
    "with tf.Session() as sess:\n",
    "    sess.run(tf.global_variables_initializer())\n",
    "    \n",
    "    for step in range(2001):\n",
    "        sess.run(gradient_descent)\n",
    "        \n",
    "        if step % 100 == 0:\n",
    "            print(\"Epoch : %.f, RMSE = %.04f, 기울기 a = %.4f, y절편 b = %.4f\" \n",
    "                  % (step, sess.run(rmse), sess.run(a), sess.run(b)))"
   ]
  },
  {
   "cell_type": "code",
   "execution_count": 1,
   "id": "885efcba",
   "metadata": {},
   "outputs": [
    {
     "ename": "ModuleNotFoundError",
     "evalue": "No module named 'pandas'",
     "output_type": "error",
     "traceback": [
      "\u001b[1;31m---------------------------------------------------------------------------\u001b[0m",
      "\u001b[1;31mModuleNotFoundError\u001b[0m                       Traceback (most recent call last)",
      "\u001b[1;32m~\\AppData\\Local\\Temp/ipykernel_19156/2547802879.py\u001b[0m in \u001b[0;36m<module>\u001b[1;34m\u001b[0m\n\u001b[0;32m      1\u001b[0m \u001b[1;32mimport\u001b[0m \u001b[0mnumpy\u001b[0m \u001b[1;32mas\u001b[0m \u001b[0mnp\u001b[0m\u001b[1;33m\u001b[0m\u001b[1;33m\u001b[0m\u001b[0m\n\u001b[1;32m----> 2\u001b[1;33m \u001b[1;32mimport\u001b[0m \u001b[0mpandas\u001b[0m \u001b[1;32mas\u001b[0m \u001b[0mpd\u001b[0m\u001b[1;33m\u001b[0m\u001b[1;33m\u001b[0m\u001b[0m\n\u001b[0m\u001b[0;32m      3\u001b[0m \u001b[1;32mimport\u001b[0m \u001b[0mmatplotlib\u001b[0m\u001b[1;33m.\u001b[0m\u001b[0mpyplot\u001b[0m \u001b[1;32mas\u001b[0m \u001b[0mplt\u001b[0m\u001b[1;33m\u001b[0m\u001b[1;33m\u001b[0m\u001b[0m\n\u001b[0;32m      4\u001b[0m \u001b[1;33m\u001b[0m\u001b[0m\n\u001b[0;32m      5\u001b[0m \u001b[1;31m#공부시간 X와 성적 Y의 리스트를 만듭니다.\u001b[0m\u001b[1;33m\u001b[0m\u001b[1;33m\u001b[0m\u001b[1;33m\u001b[0m\u001b[0m\n",
      "\u001b[1;31mModuleNotFoundError\u001b[0m: No module named 'pandas'"
     ]
    }
   ],
   "source": [
    "\n",
    "import numpy as np\n",
    "import pandas as pd\n",
    "import matplotlib.pyplot as plt\n",
    "\n",
    "#공부시간 X와 성적 Y의 리스트를 만듭니다.\n",
    "data = [[2, 81], [4, 93], [6, 91], [8, 97]]\n",
    "x = [i[0] for i in data]\n",
    "y = [i[1] for i in data]\n",
    "\n",
    "#그래프로 나타내 봅니다.\n",
    "plt.figure(figsize=(8,5))\n",
    "plt.scatter(x, y)\n",
    "plt.show()\n",
    "\n",
    "#리스트로 되어 있는 x와 y값을 넘파이 배열로 바꾸어 줍니다.(인덱스를 주어 하나씩 불러와 계산이 가능해 지도록 하기 위함입니다.)\n",
    "x_data = np.array(x)\n",
    "y_data = np.array(y)\n",
    "\n",
    "# 기울기 a와 절편 b의 값을 초기화 합니다.\n",
    "a = 0\n",
    "b = 0\n",
    "\n",
    "#학습률을 정합니다.\n",
    "lr = 0.03 \n",
    "\n",
    "#몇 번 반복될지를 설정합니다.\n",
    "epochs = 2001 \n",
    "\n",
    "#경사 하강법을 시작합니다.\n",
    "for i in range(epochs): # epoch 수 만큼 반복\n",
    "    y_hat = a * x_data + b  #y를 구하는 식을 세웁니다\n",
    "    error = y_data - y_hat  #오차를 구하는 식입니다.\n",
    "    a_diff = -(2/len(x_data)) * sum(x_data * (error)) # 오차함수를 a로 미분한 값입니다. \n",
    "    b_diff = -(2/len(x_data)) * sum(error)  # 오차함수를 b로 미분한 값입니다. \n",
    "    a = a - lr * a_diff  # 학습률을 곱해 기존의 a값을 업데이트합니다.\n",
    "    b = b - lr * b_diff  # 학습률을 곱해 기존의 b값을 업데이트합니다.\n",
    "    if i % 100 == 0:    # 100번 반복될 때마다 현재의 a값, b값을 출력합니다.\n",
    "        print(\"epoch=%.f, 기울기=%.04f, 절편=%.04f\" % (i, a, b))\n",
    "\n",
    "# 앞서 구한 기울기와 절편을 이용해 그래프를 그려 봅니다.\n",
    "y_pred = a * x_data + b\n",
    "plt.scatter(x, y)\n",
    "plt.plot([min(x_data), max(x_data)], [min(y_pred), max(y_pred)])\n",
    "plt.show()"
   ]
  },
  {
   "cell_type": "code",
   "execution_count": null,
   "id": "9f8c818f",
   "metadata": {},
   "outputs": [],
   "source": []
  }
 ],
 "metadata": {
  "kernelspec": {
   "display_name": "Python 3 (ipykernel)",
   "language": "python",
   "name": "python3"
  },
  "language_info": {
   "codemirror_mode": {
    "name": "ipython",
    "version": 3
   },
   "file_extension": ".py",
   "mimetype": "text/x-python",
   "name": "python",
   "nbconvert_exporter": "python",
   "pygments_lexer": "ipython3",
   "version": "3.9.4"
  }
 },
 "nbformat": 4,
 "nbformat_minor": 5
}
